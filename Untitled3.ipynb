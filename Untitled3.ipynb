{
  "nbformat": 4,
  "nbformat_minor": 0,
  "metadata": {
    "colab": {
      "provenance": [],
      "authorship_tag": "ABX9TyMhdUF6BWlsMe62ggNfsTHo",
      "include_colab_link": true
    },
    "kernelspec": {
      "name": "python3",
      "display_name": "Python 3"
    },
    "language_info": {
      "name": "python"
    }
  },
  "cells": [
    {
      "cell_type": "markdown",
      "metadata": {
        "id": "view-in-github",
        "colab_type": "text"
      },
      "source": [
        "<a href=\"https://colab.research.google.com/github/edicarla/CodeMigas-Exercicios/blob/master/Untitled3.ipynb\" target=\"_parent\"><img src=\"https://colab.research.google.com/assets/colab-badge.svg\" alt=\"Open In Colab\"/></a>"
      ]
    },
    {
      "cell_type": "code",
      "execution_count": null,
      "metadata": {
        "id": "fqWyBhXvzi4a"
      },
      "outputs": [],
      "source": [
        "import pandas as pd\n",
        "import Counter\n",
        "\n",
        "def registrar_votos(votos, arquivos):\n",
        "    with open(arquivo,\"w\") as f:\n",
        "        for voto in votos:\n",
        "            f.write(str(voto) + \"\\n\")\n",
        "\n",
        "def calcular_resultado(arquivo):\n",
        "    with open(arquivo,\"r\") as f:\n",
        "        votos=[int(voto.strip()) for voto in f.readlines()]\n",
        "\n",
        "    contagem_votos= Counter(votos)\n",
        "\n",
        "    candidatos = {1:\"Bart\", 2: \"Homer\"}\n",
        "\n",
        "    votos_nulos= contagem_votos[0] if 0 in contagem_votos else 0\n",
        "    del contagem_votos[0]\n",
        "\n",
        "    candidato_mais_votado= max(contagem_votos,key=contagem_votos.get)\n",
        "    candidato_menos_votado= min(contagem_votos,key=contagem_votos.get)\n",
        "\n",
        "    return{\n",
        "        \"candidato_mais_votado\": (candidatos[candidato_mais_votado],contagem_votos[candidato_mais_votado]),\n",
        "        \"candidato_menos_votado\":(candidatos[candidato_menos_votado],contagem_votos[candidato_menos_votado]),\n",
        "        \"votos_nulos\": votos_nulos\n",
        "    }\n",
        "\n",
        "\n",
        "votos = [1,2,1,1,2,0,0,0,0]\n",
        "registrar_votos( votos, \"votos.txt\")\n",
        "resultado = calcular_resultado(\"votos.txt\")\n",
        "print(resultado)\n"
      ]
    }
  ]
}